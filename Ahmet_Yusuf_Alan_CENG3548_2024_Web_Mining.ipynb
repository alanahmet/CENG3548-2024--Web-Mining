{
  "nbformat": 4,
  "nbformat_minor": 0,
  "metadata": {
    "colab": {
      "provenance": []
    },
    "kernelspec": {
      "name": "python3",
      "display_name": "Python 3"
    },
    "language_info": {
      "name": "python"
    }
  },
  "cells": [
    {
      "cell_type": "markdown",
      "source": [
        "# Extract Merchant ID and Product ID from link"
      ],
      "metadata": {
        "id": "ekyzPOvrQqWl"
      }
    },
    {
      "cell_type": "code",
      "source": [
        "import re\n",
        "\n",
        "# Sample link\n",
        "link = \"https://www.trendyol.com/huawei/band-8-akilli-saat-sakura-pembesi-huawei-turkiye-garantili-p-736891275?boutiqueId=638145&merchantId=968\"\n",
        "\n",
        "# Regular expression patterns\n",
        "product_id_pattern = r'\\/([^\\/]+)-p-(\\d+)'\n",
        "merchant_id_pattern = r'merchantId=(\\d+)'\n",
        "\n",
        "# Extracting product_id\n",
        "product_id_match = re.search(product_id_pattern, link)\n",
        "if product_id_match:\n",
        "    product_id_text = product_id_match.group(1)\n",
        "    product_id_number = product_id_match.group(2)\n",
        "    print(\"Product ID Text:\", product_id_text)\n",
        "    print(\"Product ID Number:\", product_id_number)\n",
        "\n",
        "# Extracting merchant_id\n",
        "merchant_id_match = re.search(merchant_id_pattern, link)\n",
        "if merchant_id_match:\n",
        "    merchant_id = merchant_id_match.group(1)\n",
        "    print(\"Merchant ID Number:\", merchant_id)\n",
        "\n",
        "product_code = product_id_text + \"-\" +  product_id_number\n",
        "\n"
      ],
      "metadata": {
        "colab": {
          "base_uri": "https://localhost:8080/"
        },
        "id": "mUxKr3-jNxsr",
        "outputId": "226e27df-9a79-4227-83a5-54c34d055b23"
      },
      "execution_count": 108,
      "outputs": [
        {
          "output_type": "stream",
          "name": "stdout",
          "text": [
            "Product ID Text: band-8-akilli-saat-sakura-pembesi-huawei-turkiye-garantili\n",
            "Product ID Number: 736891275\n",
            "Merchant ID Number: 968\n"
          ]
        }
      ]
    },
    {
      "cell_type": "code",
      "source": [
        "product_id = product_id_text + \"-p-\" +  product_id_number\n",
        "product_id"
      ],
      "metadata": {
        "colab": {
          "base_uri": "https://localhost:8080/",
          "height": 36
        },
        "id": "UsvkTPqCOmUN",
        "outputId": "762af6bc-7957-49cc-f921-9a4725fb6337"
      },
      "execution_count": 111,
      "outputs": [
        {
          "output_type": "execute_result",
          "data": {
            "text/plain": [
              "'band-8-akilli-saat-sakura-pembesi-huawei-turkiye-garantili-p-736891275'"
            ],
            "application/vnd.google.colaboratory.intrinsic+json": {
              "type": "string"
            }
          },
          "metadata": {},
          "execution_count": 111
        }
      ]
    },
    {
      "cell_type": "markdown",
      "source": [
        "# Scrapping Comments"
      ],
      "metadata": {
        "id": "7I4P86jsQ7NW"
      }
    },
    {
      "cell_type": "code",
      "execution_count": 112,
      "metadata": {
        "colab": {
          "base_uri": "https://localhost:8080/"
        },
        "id": "POalfdc0kZFH",
        "outputId": "9adeba71-256d-4ebb-c28a-21a1f7b7d91a"
      },
      "outputs": [
        {
          "output_type": "stream",
          "name": "stdout",
          "text": [
            "https://public-mdc.trendyol.com/discovery-web-socialgw-service/reviews/relax/band-8-akilli-saat-sakura-pembesi-huawei-turkiye-garantili-p-736891275/yorumlar?merchantId=968&sav=true&culture=tr-TR&storefrontId=1&RRsocialproofAbTesting=B&logged-in=true&isBuyer=false&channelId=1\n",
            "RATE: 5\n",
            "COMMENT: fazla rahatsız etmeyin aşk yaşıyorum saatimle😅\n",
            "RATE: 5\n",
            "COMMENT: Hızlı ve düzgün geldi.  Eşime aldım. Çok beğendi ve memnun kaldı. Bir çok özelliği mevcut. Kullanımı kolay.\n",
            "RATE: 5\n",
            "COMMENT: kalite efendim\n",
            "RATE: 5\n",
            "COMMENT: İlk başta alisamamistim şimdi hayatımın bir parçası oldu severek kullanıyorum çok kaba değil çok küçük de değil aşırı şık diyemem ama çok ergonomik olduğunu düşünüyorum. alın bence\n",
            "RATE: 5\n",
            "COMMENT: Urun gayet hos naif kullanisli ozellikli kiz arkadasima aldim cok sevdi\n",
            "RATE: 5\n",
            "COMMENT: Hediye olarak sevgilime aldım. Çok beğendi. Eksiği yok. Çok başarılı bir saat\n",
            "RATE: 5\n",
            "COMMENT: kız arkadaşıma aldım begendi gayet güzel tavsiye ederim\n",
            "RATE: 4\n",
            "COMMENT: kardeşime aldım memnunn\n",
            "RATE: 5\n",
            "COMMENT: Eşim için aldım. Cok beğendi. Menüsü kolay. Kullanışlı bi saat. Tavsiye ederim\n",
            "RATE: 5\n",
            "COMMENT: Çok iyi hediye olarak aldım\n",
            "RATE: 5\n",
            "COMMENT: Ailem bana saati doğum günü hediyesi olarak almışlar çok beğendim çok güzel almanızı tavsiye ederim\n",
            "RATE: 5\n",
            "COMMENT: Çok kaliteli çok güzel\n",
            "RATE: 5\n",
            "COMMENT: Ablam için almıştım kullanışlı\n",
            "RATE: 5\n",
            "COMMENT: Torunuma hediye alıp gönderdim çok beğendi satıcı başarılı\n",
            "RATE: 5\n",
            "COMMENT: Baldızıma aldık çok beğendi tavsiye ederiz\n",
            "RATE: 5\n",
            "COMMENT: çok güzel çok hızlı geldi hasarsız kullanıyorum memnunum\n",
            "RATE: 5\n",
            "COMMENT: kızım için aldım.. güzel bir ürün.. tavsiye ederim.. şarjı da gayet iyi gidiyor..\n",
            "RATE: 1\n",
            "COMMENT: Aldigim gunden beri uygulama yuzunden kurulum yapamadim kesinlikle tavsiye etmiyorum\n",
            "RATE: 5\n",
            "COMMENT: yeğenime hediye olarak aldim begenicegine eminim kendim band7 kullanıyorum uzun şarj ömrü ve fonksiyonelliği tam f/p ürünü kargo çok hızlı geldi teşekkürler\n",
            "RATE: 5\n",
            "COMMENT: On numara, iPhone kullanıyorum bildirim alma açısından hiçbir sıkıntı yaşamadım. Eğer benim gibi amacınız saate bakmak, ne kadar yürüdüğünüzü görmek ise alınabilecek en mantıklı saat bu olur\n",
            "RATE: 5\n",
            "COMMENT: Ürünü hediye almıştım çok beğenildi ve teslimat çok hızlı oldu teşekkür ederim\n",
            "RATE: 5\n",
            "COMMENT: severek kullanıyorum çok rahat\n",
            "RATE: 5\n",
            "COMMENT: paketleme güzeldi kargo hızlıydı kurulumunu da çok rahat bir şekilde yaptım şimdilik memnunum ve çok beğendim\n",
            "RATE: 5\n",
            "COMMENT: Sevgilime almıştım çok beğendi tavsiye ederim herkese\n",
            "RATE: 5\n",
            "COMMENT: çok iyi beklentinin üstünde çocuk için aldim\n",
            "RATE: 5\n",
            "COMMENT: paketleme ve ürün gayet güzel 3-4 aylık kullanım söylüyorum konuşma özelliği falan yok ama çok çok tatmin eden bir saat oldu telefondan önce saate bildirim geliyor bu kadarını beklemezdim hiç donma yaşamadım kesinlikle şarjı çok iyi gidiyor herşeyi açık ve parlaklık fulken bile 1 haftayı asabiliyor soru sormak isteyenler yorumun altına yazabilir ben gayet memnunum çakma saatlere bu paralı vereceğinize bunu alın denize havuza sürekli girdim gram su gecirme yok zaten havuzda yüzme egzersizi de var birtek orta iyi dediğim özellik ben 100 metre kosuyorsam 15-18 metre fazla çıkartabiliyor oda benim için hiç sorun degil\n",
            "RATE: 5\n",
            "COMMENT: Harika çok memnunum tavsiye ediyorum\n",
            "RATE: 4\n",
            "COMMENT: Kızım için aldım. Beğenerek kullanıyor\n",
            "RATE: 5\n",
            "COMMENT: sağlam ve sorunsuz teslim aldım teşekkürler\n",
            "RATE: 5\n",
            "COMMENT: Güzel bir ürün, gelen meşajları gösteriyor olması harika\n"
          ]
        }
      ],
      "source": [
        "import requests\n",
        "import json\n",
        "\n",
        "url = f\"https://public-mdc.trendyol.com/discovery-web-socialgw-service/reviews/relax/{product_id}/yorumlar?merchantId={merchant_id}&sav=true&culture=tr-TR&storefrontId=1&RRsocialproofAbTesting=B&logged-in=true&isBuyer=false&channelId=1\"\n",
        "print(url)\n",
        "r = requests.get(url)\n",
        "content= r.json()\n",
        "script_code = content[\"result\"][\"hydrateScript\"]\n",
        "# print(script_code)\n",
        "index1 = script_code.index(\"__ =\")\n",
        "index2 = script_code.index(\"window.TYPageName\")\n",
        "# print(index1, index2, script_code[index1+5:index2-14])\n",
        "data = json.loads(script_code[index1+5:index2-14])\n",
        "comments = data[\"ratingAndReviewResponse\"][\"ratingAndReview\"][\"productReviews\"][\"content\"]\n",
        "for comment in comments:\n",
        "    print(\"RATE:\", comment[\"rate\"])\n",
        "    print(\"COMMENT:\", comment[\"comment\"])"
      ]
    },
    {
      "cell_type": "markdown",
      "source": [
        "# Scrapping Product Description and Features"
      ],
      "metadata": {
        "id": "u_dYYLMuRStV"
      }
    },
    {
      "cell_type": "code",
      "source": [
        "import requests\n",
        "from bs4 import BeautifulSoup\n",
        "\n",
        "url = f'https://www.trendyol.com/comedones/{product_id}?boutiqueId=61&merchantId={merchant_id}&sav=true'\n",
        "response = requests.get(url)\n",
        "html_content = response.content\n",
        "\n",
        "soup = BeautifulSoup(html_content, 'html.parser')\n",
        "text_data = response.text"
      ],
      "metadata": {
        "id": "wflXBGtJ2L1R"
      },
      "execution_count": 113,
      "outputs": []
    },
    {
      "cell_type": "code",
      "source": [
        "index1 = text_data.index(\"window.__PRODUCT_DETAIL_APP_INITIAL_STATE\")\n",
        "index2 = text_data.rindex(\"__PRODUCT_DETAIL_APP_INITIAL_STATE__.product.brand.name\")\n",
        "index1, index2"
      ],
      "metadata": {
        "colab": {
          "base_uri": "https://localhost:8080/"
        },
        "id": "ZkSoRabH7XbB",
        "outputId": "bf555cd1-0fae-4460-eb65-e430d133f5b7"
      },
      "execution_count": 116,
      "outputs": [
        {
          "output_type": "execute_result",
          "data": {
            "text/plain": [
              "(143444, 217015)"
            ]
          },
          "metadata": {},
          "execution_count": 116
        }
      ]
    },
    {
      "cell_type": "code",
      "source": [
        "json_string = text_data[index1+44:index2 - 1234]\n",
        "data = json.loads(json_string)"
      ],
      "metadata": {
        "id": "RU_JieKA2Qqf"
      },
      "execution_count": 118,
      "outputs": []
    },
    {
      "cell_type": "code",
      "source": [
        "data[\"product\"][\"descriptions\"]"
      ],
      "metadata": {
        "colab": {
          "base_uri": "https://localhost:8080/"
        },
        "id": "DyeutVwb2jnd",
        "outputId": "5d47cbbd-10ea-491d-9b68-1092d0cc5934"
      },
      "execution_count": 119,
      "outputs": [
        {
          "output_type": "execute_result",
          "data": {
            "text/plain": [
              "[{'text': 'Bu ürün\\xa0[page=\"merchant_info\"]Trendyol[/page]\\xa0tarafından gönderilecektir.',\n",
              "  'priority': 2},\n",
              " {'text': 'Kampanya fiyatından satılmak üzere 100 adetten fazla stok sunulmuştur.',\n",
              "  'priority': 4},\n",
              " {'text': 'Ürüne ait garanti belgesi ile tanıtma ve kullanım kılavuzları; kağıt ortamında paylaşılabileceği gibi elektronik ortamda erişim sağlayabileceğiniz, link ve karekod biçiminde de sunulabilecektir. Ürün teslimi sonrası ambalajın, paketin, kutunun dikkatle açılması tavsiye edilir.',\n",
              "  'priority': 18},\n",
              " {'text': 'Bir ürün, birden fazla satıcı tarafından satılabilir. Birden fazla satıcı tarafından satışa sunulan ürünlerin satıcıları ürün için belirledikleri fiyata, satıcı puanlarına, teslimat statülerine, ürünlerdeki promosyonlara, kargonun bedava olup olmamasına ve ürünlerin hızlı teslimat ile teslim edilip edilememesine, ürünlerin stok ve kategorileri bilgilerine göre sıralanmaktadır.',\n",
              "  'priority': 1001},\n",
              " {'text': 'Bu üründen en fazla\\xa01 adet sipariş verilebilir.\\xa01 adedin üzerindeki siparişleri Trendyol iptal etme hakkını saklı tutar.\\xa0Belirlenen bu limit kurumsal siparişlerde geçerli olmayıp, kurumsal siparişler için farklı limitler belirlenebilmektedir.',\n",
              "  'priority': 1003},\n",
              " {'text': '15 gün içinde ücretsiz iade. Detaylı bilgi için\\xa0[page=\"return_conditions\"]tıklayın[/page].',\n",
              "  'priority': 1005},\n",
              " {'text': 'Band 8 Akıllı Saat Sakura Pembesi (Huawei Türkiye Garantili)',\n",
              "  'priority': 0}]"
            ]
          },
          "metadata": {},
          "execution_count": 119
        }
      ]
    },
    {
      "cell_type": "code",
      "source": [
        "data[\"product\"][\"attributes\"]"
      ],
      "metadata": {
        "colab": {
          "base_uri": "https://localhost:8080/"
        },
        "id": "tzK0-Xbu2nrQ",
        "outputId": "af41a073-e09b-4683-a76f-975c7de9fc7c"
      },
      "execution_count": 120,
      "outputs": [
        {
          "output_type": "execute_result",
          "data": {
            "text/plain": [
              "[{'key': {'name': 'Garanti Tipi', 'id': 290},\n",
              "  'value': {'name': 'Huawei Türkiye Garantili', 'id': 286816},\n",
              "  'starred': False,\n",
              "  'description': '',\n",
              "  'mediaUrls': []},\n",
              " {'key': {'name': 'İşletim Tipi', 'id': 170},\n",
              "  'value': {'name': 'Android', 'id': 1957},\n",
              "  'starred': False,\n",
              "  'description': '',\n",
              "  'mediaUrls': []},\n",
              " {'key': {'name': 'Renk', 'id': 348},\n",
              "  'value': {'name': 'Pembe', 'id': 12},\n",
              "  'starred': False,\n",
              "  'description': '',\n",
              "  'mediaUrls': []},\n",
              " {'key': {'name': 'Garanti Süresi', 'id': 433},\n",
              "  'value': {'name': '2 Yıl', 'id': 20637},\n",
              "  'starred': False,\n",
              "  'description': '',\n",
              "  'mediaUrls': []},\n",
              " {'key': {'name': 'Adımsayar', 'id': 484},\n",
              "  'value': {'name': 'Var', 'id': 23607},\n",
              "  'starred': False,\n",
              "  'description': '',\n",
              "  'mediaUrls': []},\n",
              " {'key': {'name': 'GPS', 'id': 692},\n",
              "  'value': {'name': 'Var', 'id': 255877},\n",
              "  'starred': False,\n",
              "  'description': '',\n",
              "  'mediaUrls': []},\n",
              " {'key': {'name': 'Elektriksel Kalp Sensörü', 'id': 861},\n",
              "  'value': {'name': 'Var', 'id': 791579},\n",
              "  'starred': False,\n",
              "  'description': '',\n",
              "  'mediaUrls': []},\n",
              " {'key': {'name': 'Kamera', 'id': 876},\n",
              "  'value': {'name': 'Yok', 'id': 960166},\n",
              "  'starred': False,\n",
              "  'description': '',\n",
              "  'mediaUrls': []},\n",
              " {'key': {'name': 'Suya/Toza Dayanıklılık', 'id': 697},\n",
              "  'value': {'name': 'Var', 'id': 255887},\n",
              "  'starred': False,\n",
              "  'description': '',\n",
              "  'mediaUrls': []},\n",
              " {'key': {'name': 'Sesli Görüşme', 'id': 762},\n",
              "  'value': {'name': 'Yok', 'id': 290006},\n",
              "  'starred': False,\n",
              "  'description': '',\n",
              "  'mediaUrls': []},\n",
              " {'key': {'name': 'Titreşim', 'id': 760},\n",
              "  'value': {'name': 'Var', 'id': 290001},\n",
              "  'starred': False,\n",
              "  'description': '',\n",
              "  'mediaUrls': []},\n",
              " {'key': {'name': 'Uyku Takibi', 'id': 761},\n",
              "  'value': {'name': 'Var', 'id': 290003},\n",
              "  'starred': False,\n",
              "  'description': '',\n",
              "  'mediaUrls': []}]"
            ]
          },
          "metadata": {},
          "execution_count": 120
        }
      ]
    }
  ]
}